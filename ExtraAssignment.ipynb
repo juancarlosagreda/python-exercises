{
 "cells": [
  {
   "cell_type": "markdown",
   "metadata": {},
   "source": [
    "# Extra Assignment\n",
    "Curso Introducción a Python - Tecnun, Universidad de Navarra\n",
    "\n",
    "\n",
    "Developed by Juan Carlos Agreda"
   ]
  },
  {
   "cell_type": "markdown",
   "metadata": {},
   "source": [
    "## Validación de contraseñas "
   ]
  },
  {
   "cell_type": "markdown",
   "metadata": {},
   "source": [
    "Crea una función que tome como argumento de entrada una propuesta de contraseña y compruebe si es segura o no. Una contraseña segura ha de cumplir las siguientes condiciones:\n",
    "- Debe tener al menos 8 caracteres.\n",
    "- Debe tener al menos una letra minúscula, una letra mayúscula, un número y un carácter no alfanumérico.\n",
    "- No puede tener espacios en blanco.\n",
    "\n",
    "Si la contraseña es segura, deberá mostrarse *True* por pantalla y, si no lo es, se mostrará *False*.\n",
    "\n",
    "Puedes aprovechar para practicar las expresiones regulares."
   ]
  },
  {
   "cell_type": "code",
   "execution_count": 49,
   "metadata": {},
   "outputs": [
    {
     "name": "stdout",
     "output_type": "stream",
     "text": [
      "Choose your password: helloWorld!9\n"
     ]
    },
    {
     "data": {
      "text/plain": [
       "True"
      ]
     },
     "execution_count": 49,
     "metadata": {},
     "output_type": "execute_result"
    }
   ],
   "source": [
    "import re\n",
    "\n",
    "def validate_password(str):\n",
    "    regex = re.compile('^(?=.*[a-z])(?=.*[A-Z])(?=.*\\d)(?=.*[@$!%*?&])[A-Za-z\\d@$!%*?&]{8,}$', re.I)\n",
    "    match = regex.match(str)\n",
    "    return bool(match)\n",
    "\n",
    "validate_password(input(\"Choose your password: \"))"
   ]
  },
  {
   "cell_type": "markdown",
   "metadata": {},
   "source": [
    "## El ahorcado"
   ]
  },
  {
   "cell_type": "markdown",
   "metadata": {},
   "source": [
    "Crea el juego del ahorcado.\n",
    "\n",
    "Primero se le pedirá al usuario que introduzca una palabra. Después, otro usuario irá introduciendo letras, una a una, de forma que cada vez que introduce una, la pantalla muestre signos de interrogación en las posiciones de las letras que no se han acertado todavía y las letras en las posiciones de las que se han acertado. Asímismo, se mostrarán las letras que se han empleado pero no son correctas. Sólo se permitirán 6 fallos.\n",
    "\n",
    "En el caso de adivinar la palabra, se felicitará al usuario y, en el caso de no hacerlo, se mostrará \"GAME OVER\" por pantalla."
   ]
  },
  {
   "cell_type": "code",
   "execution_count": null,
   "metadata": {},
   "outputs": [],
   "source": [
    "# will try out pygame\n",
    "https://repl.it/join/fwuncwrl-juancarlosagred"
   ]
  }
 ],
 "metadata": {
  "kernelspec": {
   "display_name": "Python 3",
   "language": "python",
   "name": "python3"
  },
  "language_info": {
   "codemirror_mode": {
    "name": "ipython",
    "version": 3
   },
   "file_extension": ".py",
   "mimetype": "text/x-python",
   "name": "python",
   "nbconvert_exporter": "python",
   "pygments_lexer": "ipython3",
   "version": "3.8.5"
  }
 },
 "nbformat": 4,
 "nbformat_minor": 2
}
