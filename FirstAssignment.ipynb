{
 "cells": [
  {
   "cell_type": "markdown",
   "metadata": {},
   "source": [
    "# First Assignment\n",
    "Curso Introducción a Python - Tecnun, Universidad de Navarra\n",
    "\n",
    "Developed by Juan Carlos Agreda"
   ]
  },
  {
   "cell_type": "markdown",
   "metadata": {},
   "source": [
    "## Cambiar el orden de las palabras"
   ]
  },
  {
   "cell_type": "markdown",
   "metadata": {},
   "source": [
    "1. Crear un diccionario donde las claves sean los días de la semana y los valores sean cuántos de esos dias hay en septiembre.\n",
    "2. Del diccionario anterior, convertir todas las claves mayúsculas.\n",
    "\n",
    "EXTRA: Utiliza una tupla para los días de la semana."
   ]
  },
  {
   "cell_type": "code",
   "execution_count": 7,
   "metadata": {},
   "outputs": [
    {
     "name": "stdout",
     "output_type": "stream",
     "text": [
      "{'LUNES': 4, 'MARTES': 4, 'MIERCOLES': 5, 'JUEVES': 5, 'VIERNES': 4, 'SABADO': 4, 'DOMINGO': 4}\n"
     ]
    }
   ],
   "source": [
    "# Dictionary excercise (assuming september 2021)\n",
    "dias = {\"Lunes\": 4,\"Martes\": 4, \"Miercoles\": 5, \"Jueves\": 5, \"Viernes\": 4, \"Sabado\": 4, \"Domingo\": 4}\n",
    "\n",
    "# Convert to uppercase\n",
    "new_dias = {}\n",
    "for k, v in dias.items():\n",
    "    new_dias[k.upper()] = v\n",
    "\n",
    "print(new_dias)\n",
    "    "
   ]
  },
  {
   "cell_type": "code",
   "execution_count": 9,
   "metadata": {},
   "outputs": [
    {
     "name": "stdout",
     "output_type": "stream",
     "text": [
      "{'LUNES': 4, 'MARTES': 4, 'MIERCOLES': 5, 'JUEVES': 5, 'VIERNES': 4, 'SABADO': 4, 'DOMINGO': 4}\n"
     ]
    }
   ],
   "source": [
    "# the same exercise but with tuples\n",
    "days = (\"Lunes\", \"Martes\", \"Miercoles\", \"Jueves\", \"Viernes\", \"Sabado\", \"Domingo\")\n",
    "\n",
    "# Convert to uppercase \n",
    "new_days = {}\n",
    "for item in days:\n",
    "    new_days[item.upper()] = new_dias[item.upper()]\n",
    "    \n",
    "print(new_days)"
   ]
  },
  {
   "cell_type": "markdown",
   "metadata": {},
   "source": [
    "Pide al usuario que introduzca una frase y que el algoritmo la muestre por pantalla pero con las palabras en orden inverso. Por ejemplo:\n",
    "\n",
    "                            Me gusta analizar datos  ->  datos analizar gusta Me"
   ]
  },
  {
   "cell_type": "code",
   "execution_count": 4,
   "metadata": {},
   "outputs": [
    {
     "name": "stdout",
     "output_type": "stream",
     "text": [
      "Me gusta analizar datos\n",
      "['Me', 'gusta', 'analizar', 'datos']\n",
      "['datos', 'analizar', 'gusta', 'Me']\n",
      "datos analizar gusta Me \n"
     ]
    }
   ],
   "source": [
    "# create string\n",
    "str = \"Me gusta analizar datos\"\n",
    "print(str)\n",
    "\n",
    "# split string by spaces\n",
    "splited = str.split();\n",
    "print(splited)\n",
    "\n",
    "# reverse array\n",
    "splited.reverse()\n",
    "print(splited)\n",
    "\n",
    "# concat strings back together\n",
    "output = \"\"\n",
    "\n",
    "for item in splited:\n",
    "    output += item + \" \"\n",
    "\n",
    "print(output)\n",
    "\n"
   ]
  },
  {
   "cell_type": "markdown",
   "metadata": {},
   "source": [
    "## Piedra - Papel - Tijera"
   ]
  },
  {
   "cell_type": "markdown",
   "metadata": {},
   "source": [
    "Crea un algoritmo que pida a dos usuarios si eligen piedra, papel o tijera y muestra por pantalla un mensaje para el ganador. En caso de empate, seguirán jugando hasta desempatar."
   ]
  },
  {
   "cell_type": "code",
   "execution_count": 50,
   "metadata": {},
   "outputs": [
    {
     "name": "stdout",
     "output_type": "stream",
     "text": [
      "\n",
      "------------- WELCOME ----------------\n",
      "RULES: Classic Rock Paper Scissor Match\n",
      "  1 == ROCK\n",
      "  2 == PAPER\n",
      "  3 == SCISSORS\n",
      "\n",
      "Player one's turn: 1\n",
      "Player two's turn: 2\n",
      "Player 2 Wins!\n"
     ]
    }
   ],
   "source": [
    "# create the game\n",
    "def printRuleSet():\n",
    "    print(\"\\n------------- WELCOME ----------------\")\n",
    "    print(\"RULES: Classic Rock Paper Scissor Match\")\n",
    "    print(\"  1 == ROCK\")\n",
    "    print(\"  2 == PAPER\")\n",
    "    print(\"  3 == SCISSORS\\n\")\n",
    "    \n",
    "# game end condition success \n",
    "def p1Wins():\n",
    "    print(\"Player 1 Wins!\")\n",
    "    return\n",
    "\n",
    "def p2Wins():\n",
    "    print(\"Player 2 Wins!\")\n",
    "    return\n",
    "\n",
    "# edge cases\n",
    "def tie():\n",
    "    print(\"There has been a tie! Play again!\")\n",
    "    return game(2)\n",
    "\n",
    "def invalid():\n",
    "    printRuleSet()\n",
    "    return game(1)\n",
    "\n",
    "# validation passed\n",
    "def good(p1, p2):    \n",
    "    if p1 == p2:\n",
    "        tie()\n",
    "    elif (p1==1 and p2 ==3) or (p1==2 and p2==1) or (p1==3 and p2==2):\n",
    "        p1Wins()\n",
    "    else:\n",
    "        p2Wins()\n",
    "\n",
    "# validation\n",
    "def validate(p1, p2):\n",
    "    good(p1, p2) if ((p1==1) or (p1==2) or (p1==3)) and ((p2==1) or (p2==2) or (p2==3)) else invalid()    \n",
    "\n",
    "# init game\n",
    "def game(i):\n",
    "    if i == 1: \n",
    "        printRuleSet() \n",
    "    else:\n",
    "        pass\n",
    "    try:\n",
    "        p1 = int(input(\"Player one's turn: \"))\n",
    "        p2 = int(input(\"Player two's turn: \"))\n",
    "        validate(p1, p2)\n",
    "    except ValueError:\n",
    "        print(\"You are disqualified, next time follow the rules!\")\n",
    "\n",
    "\n",
    "# init state\n",
    "game(1)\n",
    "        "
   ]
  },
  {
   "cell_type": "markdown",
   "metadata": {},
   "source": [
    "## Calculadora"
   ]
  },
  {
   "cell_type": "markdown",
   "metadata": {},
   "source": [
    "Hacer una función para un programa al que le entregues dos números `x` y `y` un parámetro `t` tal que\n",
    "\n",
    "- Si t = b. debe devolver $x - y$\n",
    "- Si t = c, debe devolver $x + y$\n",
    "- Si t = d, debe devolver $x/y$\n",
    "- Si t = e, debe devolver $x^{y+1}$\n",
    "\n",
    "EXTRA. Intenta utilizar un lista.\n"
   ]
  },
  {
   "cell_type": "code",
   "execution_count": 64,
   "metadata": {},
   "outputs": [
    {
     "data": {
      "text/plain": [
       "121"
      ]
     },
     "execution_count": 64,
     "metadata": {},
     "output_type": "execute_result"
    }
   ],
   "source": [
    "def invalid():\n",
    "    print(\"Invalid inputs\")\n",
    "    return\n",
    "\n",
    "def operations(l):\n",
    "    if l[2] == \"b\": \n",
    "        return l[0] - l[1]\n",
    "    elif l[2] == \"c\":\n",
    "        return l[0] + l[1]\n",
    "    elif l[2] == \"d\":\n",
    "        return l[0]/l[1]\n",
    "    elif l[2] == \"e\":\n",
    "        return l[0]**(l[1] +1)\n",
    "    else:\n",
    "        return invalid()\n",
    "\n",
    "myList = [11, 1, \"e\"]\n",
    "operations(myList)"
   ]
  },
  {
   "cell_type": "markdown",
   "metadata": {},
   "source": [
    "## Estaciones"
   ]
  },
  {
   "cell_type": "markdown",
   "metadata": {},
   "source": [
    "Hacer un script para un programa al que le entregues un parámetro mes. Según el mes que introduzca el usuario, el programa debe devolver: PRIMAVERA, VERANO, OTOÑO o INVIERNO.\n",
    "EXTRA. Intenta utilizar un diccionario."
   ]
  },
  {
   "cell_type": "code",
   "execution_count": 72,
   "metadata": {},
   "outputs": [
    {
     "name": "stdout",
     "output_type": "stream",
     "text": [
      "Type in a month [int] to find out what season we're on: 1\n",
      "INVIERNO\n"
     ]
    }
   ],
   "source": [
    "seasons = {\n",
    "    1: \"INVIERNO\", \n",
    "    2: \"INVIERNO\", \n",
    "    3: \"PRIMAVERA\", \n",
    "    4: \"PRIMAVERA\", \n",
    "    5: \"PRIMAVERA\",\n",
    "    6: \"VERANO\",\n",
    "    7: \"VERANO\",\n",
    "    8: \"VERANO\",\n",
    "    9: \"OTOÑO\",\n",
    "    10: \"OTOÑO\",\n",
    "    11: \"OTOÑO\",\n",
    "    12: \"INVERNO\"\n",
    "}\n",
    "\n",
    "def findSeason(month, seasons):\n",
    "    print(seasons[month])\n",
    "\n",
    "try: \n",
    "    month = int(input(\"Type in a month [int] to find out what season we're on: \"))\n",
    "    findSeason(month, seasons)\n",
    "except:\n",
    "    print(\"Wrong input....\")\n"
   ]
  }
 ],
 "metadata": {
  "kernelspec": {
   "display_name": "Python 3",
   "language": "python",
   "name": "python3"
  },
  "language_info": {
   "codemirror_mode": {
    "name": "ipython",
    "version": 3
   },
   "file_extension": ".py",
   "mimetype": "text/x-python",
   "name": "python",
   "nbconvert_exporter": "python",
   "pygments_lexer": "ipython3",
   "version": "3.8.5"
  }
 },
 "nbformat": 4,
 "nbformat_minor": 2
}
